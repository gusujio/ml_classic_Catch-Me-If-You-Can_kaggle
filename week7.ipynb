{
 "cells": [
  {
   "cell_type": "markdown",
   "metadata": {},
   "source": [
    "# <center>  Соревнование Kaggle \"Catch Me If You Can\"\n",
    "\n",
    "## 1. Цели, задачи, данные\n",
    "Решается задача идентификации взломщика по его поведению в сети Интернет. Это сложная и интересная задача на стыке анализа данных и поведенческой психологии. Построенный нами алгоритм будет анализировать последовательность из нескольких веб-сайтов, посещенных подряд одним и тем же человеком, и определять, Элис это или взломщик (кто-то другой).\n",
    "    \n",
    "Задаче ценна тем, что очень часто возникает на практике для предотвращения несанкционированного доступа к электронной почте людей. Настроенный алгоритм на конкретного человека - настоящего пользователя, уже знает его привычки, а новых людей (взломщиков) нет, поэтому может из выбросить с почтового ящика"
   ]
  },
  {
   "cell_type": "code",
   "execution_count": 1,
   "metadata": {},
   "outputs": [],
   "source": [
    "from __future__ import division, print_function\n",
    "# отключим всякие предупреждения Anaconda\n",
    "import warnings\n",
    "warnings.filterwarnings('ignore')\n",
    "import os\n",
    "import pickle\n",
    "import numpy as np\n",
    "import pandas as pd\n",
    "from scipy.sparse import csr_matrix\n",
    "from sklearn.model_selection import train_test_split\n",
    "from sklearn.linear_model import SGDClassifier\n",
    "from sklearn.metrics import roc_auc_score"
   ]
  },
  {
   "cell_type": "code",
   "execution_count": 2,
   "metadata": {},
   "outputs": [],
   "source": [
    "PATH_TO_DATA = 'alice_identification'"
   ]
  },
  {
   "cell_type": "code",
   "execution_count": 3,
   "metadata": {},
   "outputs": [],
   "source": [
    "train_df = pd.read_csv(os.path.join(PATH_TO_DATA, 'train_sessions.csv'),\n",
    "                       index_col='session_id')\n",
    "test_df = pd.read_csv(os.path.join(PATH_TO_DATA, 'test_sessions.csv'),\n",
    "                      index_col='session_id')"
   ]
  },
  {
   "cell_type": "code",
   "execution_count": 4,
   "metadata": {},
   "outputs": [
    {
     "data": {
      "text/html": [
       "<div>\n",
       "<style scoped>\n",
       "    .dataframe tbody tr th:only-of-type {\n",
       "        vertical-align: middle;\n",
       "    }\n",
       "\n",
       "    .dataframe tbody tr th {\n",
       "        vertical-align: top;\n",
       "    }\n",
       "\n",
       "    .dataframe thead th {\n",
       "        text-align: right;\n",
       "    }\n",
       "</style>\n",
       "<table border=\"1\" class=\"dataframe\">\n",
       "  <thead>\n",
       "    <tr style=\"text-align: right;\">\n",
       "      <th></th>\n",
       "      <th>site1</th>\n",
       "      <th>time1</th>\n",
       "      <th>site2</th>\n",
       "      <th>time2</th>\n",
       "      <th>site3</th>\n",
       "      <th>time3</th>\n",
       "      <th>site4</th>\n",
       "      <th>time4</th>\n",
       "      <th>site5</th>\n",
       "      <th>time5</th>\n",
       "      <th>...</th>\n",
       "      <th>time6</th>\n",
       "      <th>site7</th>\n",
       "      <th>time7</th>\n",
       "      <th>site8</th>\n",
       "      <th>time8</th>\n",
       "      <th>site9</th>\n",
       "      <th>time9</th>\n",
       "      <th>site10</th>\n",
       "      <th>time10</th>\n",
       "      <th>target</th>\n",
       "    </tr>\n",
       "    <tr>\n",
       "      <th>session_id</th>\n",
       "      <th></th>\n",
       "      <th></th>\n",
       "      <th></th>\n",
       "      <th></th>\n",
       "      <th></th>\n",
       "      <th></th>\n",
       "      <th></th>\n",
       "      <th></th>\n",
       "      <th></th>\n",
       "      <th></th>\n",
       "      <th></th>\n",
       "      <th></th>\n",
       "      <th></th>\n",
       "      <th></th>\n",
       "      <th></th>\n",
       "      <th></th>\n",
       "      <th></th>\n",
       "      <th></th>\n",
       "      <th></th>\n",
       "      <th></th>\n",
       "      <th></th>\n",
       "    </tr>\n",
       "  </thead>\n",
       "  <tbody>\n",
       "    <tr>\n",
       "      <th>1</th>\n",
       "      <td>718</td>\n",
       "      <td>2014-02-20 10:02:45</td>\n",
       "      <td>NaN</td>\n",
       "      <td>NaN</td>\n",
       "      <td>NaN</td>\n",
       "      <td>NaN</td>\n",
       "      <td>NaN</td>\n",
       "      <td>NaN</td>\n",
       "      <td>NaN</td>\n",
       "      <td>NaN</td>\n",
       "      <td>...</td>\n",
       "      <td>NaN</td>\n",
       "      <td>NaN</td>\n",
       "      <td>NaN</td>\n",
       "      <td>NaN</td>\n",
       "      <td>NaN</td>\n",
       "      <td>NaN</td>\n",
       "      <td>NaN</td>\n",
       "      <td>NaN</td>\n",
       "      <td>NaN</td>\n",
       "      <td>0</td>\n",
       "    </tr>\n",
       "    <tr>\n",
       "      <th>2</th>\n",
       "      <td>890</td>\n",
       "      <td>2014-02-22 11:19:50</td>\n",
       "      <td>941.0</td>\n",
       "      <td>2014-02-22 11:19:50</td>\n",
       "      <td>3847.0</td>\n",
       "      <td>2014-02-22 11:19:51</td>\n",
       "      <td>941.0</td>\n",
       "      <td>2014-02-22 11:19:51</td>\n",
       "      <td>942.0</td>\n",
       "      <td>2014-02-22 11:19:51</td>\n",
       "      <td>...</td>\n",
       "      <td>2014-02-22 11:19:51</td>\n",
       "      <td>3847.0</td>\n",
       "      <td>2014-02-22 11:19:52</td>\n",
       "      <td>3846.0</td>\n",
       "      <td>2014-02-22 11:19:52</td>\n",
       "      <td>1516.0</td>\n",
       "      <td>2014-02-22 11:20:15</td>\n",
       "      <td>1518.0</td>\n",
       "      <td>2014-02-22 11:20:16</td>\n",
       "      <td>0</td>\n",
       "    </tr>\n",
       "    <tr>\n",
       "      <th>3</th>\n",
       "      <td>14769</td>\n",
       "      <td>2013-12-16 16:40:17</td>\n",
       "      <td>39.0</td>\n",
       "      <td>2013-12-16 16:40:18</td>\n",
       "      <td>14768.0</td>\n",
       "      <td>2013-12-16 16:40:19</td>\n",
       "      <td>14769.0</td>\n",
       "      <td>2013-12-16 16:40:19</td>\n",
       "      <td>37.0</td>\n",
       "      <td>2013-12-16 16:40:19</td>\n",
       "      <td>...</td>\n",
       "      <td>2013-12-16 16:40:19</td>\n",
       "      <td>14768.0</td>\n",
       "      <td>2013-12-16 16:40:20</td>\n",
       "      <td>14768.0</td>\n",
       "      <td>2013-12-16 16:40:21</td>\n",
       "      <td>14768.0</td>\n",
       "      <td>2013-12-16 16:40:22</td>\n",
       "      <td>14768.0</td>\n",
       "      <td>2013-12-16 16:40:24</td>\n",
       "      <td>0</td>\n",
       "    </tr>\n",
       "    <tr>\n",
       "      <th>4</th>\n",
       "      <td>782</td>\n",
       "      <td>2014-03-28 10:52:12</td>\n",
       "      <td>782.0</td>\n",
       "      <td>2014-03-28 10:52:42</td>\n",
       "      <td>782.0</td>\n",
       "      <td>2014-03-28 10:53:12</td>\n",
       "      <td>782.0</td>\n",
       "      <td>2014-03-28 10:53:42</td>\n",
       "      <td>782.0</td>\n",
       "      <td>2014-03-28 10:54:12</td>\n",
       "      <td>...</td>\n",
       "      <td>2014-03-28 10:54:42</td>\n",
       "      <td>782.0</td>\n",
       "      <td>2014-03-28 10:55:12</td>\n",
       "      <td>782.0</td>\n",
       "      <td>2014-03-28 10:55:42</td>\n",
       "      <td>782.0</td>\n",
       "      <td>2014-03-28 10:56:12</td>\n",
       "      <td>782.0</td>\n",
       "      <td>2014-03-28 10:56:42</td>\n",
       "      <td>0</td>\n",
       "    </tr>\n",
       "    <tr>\n",
       "      <th>5</th>\n",
       "      <td>22</td>\n",
       "      <td>2014-02-28 10:53:05</td>\n",
       "      <td>177.0</td>\n",
       "      <td>2014-02-28 10:55:22</td>\n",
       "      <td>175.0</td>\n",
       "      <td>2014-02-28 10:55:22</td>\n",
       "      <td>178.0</td>\n",
       "      <td>2014-02-28 10:55:23</td>\n",
       "      <td>177.0</td>\n",
       "      <td>2014-02-28 10:55:23</td>\n",
       "      <td>...</td>\n",
       "      <td>2014-02-28 10:55:59</td>\n",
       "      <td>175.0</td>\n",
       "      <td>2014-02-28 10:55:59</td>\n",
       "      <td>177.0</td>\n",
       "      <td>2014-02-28 10:55:59</td>\n",
       "      <td>177.0</td>\n",
       "      <td>2014-02-28 10:57:06</td>\n",
       "      <td>178.0</td>\n",
       "      <td>2014-02-28 10:57:11</td>\n",
       "      <td>0</td>\n",
       "    </tr>\n",
       "  </tbody>\n",
       "</table>\n",
       "<p>5 rows × 21 columns</p>\n",
       "</div>"
      ],
      "text/plain": [
       "            site1                time1  site2                time2    site3  \\\n",
       "session_id                                                                    \n",
       "1             718  2014-02-20 10:02:45    NaN                  NaN      NaN   \n",
       "2             890  2014-02-22 11:19:50  941.0  2014-02-22 11:19:50   3847.0   \n",
       "3           14769  2013-12-16 16:40:17   39.0  2013-12-16 16:40:18  14768.0   \n",
       "4             782  2014-03-28 10:52:12  782.0  2014-03-28 10:52:42    782.0   \n",
       "5              22  2014-02-28 10:53:05  177.0  2014-02-28 10:55:22    175.0   \n",
       "\n",
       "                          time3    site4                time4  site5  \\\n",
       "session_id                                                             \n",
       "1                           NaN      NaN                  NaN    NaN   \n",
       "2           2014-02-22 11:19:51    941.0  2014-02-22 11:19:51  942.0   \n",
       "3           2013-12-16 16:40:19  14769.0  2013-12-16 16:40:19   37.0   \n",
       "4           2014-03-28 10:53:12    782.0  2014-03-28 10:53:42  782.0   \n",
       "5           2014-02-28 10:55:22    178.0  2014-02-28 10:55:23  177.0   \n",
       "\n",
       "                          time5  ...                time6    site7  \\\n",
       "session_id                       ...                                 \n",
       "1                           NaN  ...                  NaN      NaN   \n",
       "2           2014-02-22 11:19:51  ...  2014-02-22 11:19:51   3847.0   \n",
       "3           2013-12-16 16:40:19  ...  2013-12-16 16:40:19  14768.0   \n",
       "4           2014-03-28 10:54:12  ...  2014-03-28 10:54:42    782.0   \n",
       "5           2014-02-28 10:55:23  ...  2014-02-28 10:55:59    175.0   \n",
       "\n",
       "                          time7    site8                time8    site9  \\\n",
       "session_id                                                               \n",
       "1                           NaN      NaN                  NaN      NaN   \n",
       "2           2014-02-22 11:19:52   3846.0  2014-02-22 11:19:52   1516.0   \n",
       "3           2013-12-16 16:40:20  14768.0  2013-12-16 16:40:21  14768.0   \n",
       "4           2014-03-28 10:55:12    782.0  2014-03-28 10:55:42    782.0   \n",
       "5           2014-02-28 10:55:59    177.0  2014-02-28 10:55:59    177.0   \n",
       "\n",
       "                          time9   site10               time10 target  \n",
       "session_id                                                            \n",
       "1                           NaN      NaN                  NaN      0  \n",
       "2           2014-02-22 11:20:15   1518.0  2014-02-22 11:20:16      0  \n",
       "3           2013-12-16 16:40:22  14768.0  2013-12-16 16:40:24      0  \n",
       "4           2014-03-28 10:56:12    782.0  2014-03-28 10:56:42      0  \n",
       "5           2014-02-28 10:57:06    178.0  2014-02-28 10:57:11      0  \n",
       "\n",
       "[5 rows x 21 columns]"
      ]
     },
     "execution_count": 4,
     "metadata": {},
     "output_type": "execute_result"
    }
   ],
   "source": [
    "train_df.head()"
   ]
  },
  {
   "cell_type": "code",
   "execution_count": 5,
   "metadata": {},
   "outputs": [
    {
     "data": {
      "text/plain": [
       "Index(['site1', 'time1', 'site2', 'time2', 'site3', 'time3', 'site4', 'time4',\n",
       "       'site5', 'time5', 'site6', 'time6', 'site7', 'time7', 'site8', 'time8',\n",
       "       'site9', 'time9', 'site10', 'time10', 'target'],\n",
       "      dtype='object')"
      ]
     },
     "execution_count": 5,
     "metadata": {},
     "output_type": "execute_result"
    }
   ],
   "source": [
    "train_df.columns"
   ]
  },
  {
   "cell_type": "markdown",
   "metadata": {},
   "source": [
    "Как видим, занные состоят из 10 сайтов и времени их посещений. Максимальная сессия составляет 10 сайтов или 30 минут с времени открытия первого сайта. \n",
    "Поскольку данные содержат \"время\", будем использовать валидационную схему по времени. Для корректной валидации отсортируем данные в трейне по времени открытия первого сайта."
   ]
  },
  {
   "cell_type": "code",
   "execution_count": 6,
   "metadata": {},
   "outputs": [],
   "source": [
    "train_df.sort_values(by='time1', inplace=True)"
   ]
  },
  {
   "cell_type": "markdown",
   "metadata": {},
   "source": [
    "**Объединим обучающую и тестовую выборки – это понадобится, чтоб вместе потом привести их к разреженному формату и добавить новые признаки в пространство теста.**"
   ]
  },
  {
   "cell_type": "code",
   "execution_count": 7,
   "metadata": {},
   "outputs": [],
   "source": [
    "train_test_df = pd.concat([train_df, test_df])"
   ]
  },
  {
   "cell_type": "markdown",
   "metadata": {},
   "source": [
    "**Посмотрим на статистику признаков.**\n",
    "\n",
    "Пропуски возникают там, где сессии короткие (менее 10 сайтов). Скажем, если человек 1 января 2015 года посетил *vk.com* в 20:01, потом *yandex.ru* в 20:29, затем *google.com* в 20:33, то первая его сессия будет состоять только из двух сайтов (site1 – ID сайта *vk.com*, time1 – 2015-01-01 20:01:00, site2 – ID сайта  *yandex.ru*, time2 – 2015-01-01 20:29:00, остальные признаки – NaN), а начиная с *google.com* пойдет новая сессия, потому что уже прошло более 30 минут с момента посещения *vk.com*."
   ]
  },
  {
   "cell_type": "code",
   "execution_count": 8,
   "metadata": {},
   "outputs": [
    {
     "name": "stdout",
     "output_type": "stream",
     "text": [
      "<class 'pandas.core.frame.DataFrame'>\n",
      "Int64Index: 253561 entries, 21669 to 204762\n",
      "Data columns (total 21 columns):\n",
      " #   Column  Non-Null Count   Dtype  \n",
      "---  ------  --------------   -----  \n",
      " 0   site1   253561 non-null  int64  \n",
      " 1   time1   253561 non-null  object \n",
      " 2   site2   250098 non-null  float64\n",
      " 3   time2   250098 non-null  object \n",
      " 4   site3   246919 non-null  float64\n",
      " 5   time3   246919 non-null  object \n",
      " 6   site4   244321 non-null  float64\n",
      " 7   time4   244321 non-null  object \n",
      " 8   site5   241829 non-null  float64\n",
      " 9   time5   241829 non-null  object \n",
      " 10  site6   239495 non-null  float64\n",
      " 11  time6   239495 non-null  object \n",
      " 12  site7   237297 non-null  float64\n",
      " 13  time7   237297 non-null  object \n",
      " 14  site8   235224 non-null  float64\n",
      " 15  time8   235224 non-null  object \n",
      " 16  site9   233084 non-null  float64\n",
      " 17  time9   233084 non-null  object \n",
      " 18  site10  231052 non-null  float64\n",
      " 19  time10  231052 non-null  object \n",
      " 20  target  253561 non-null  int64  \n",
      "dtypes: float64(9), int64(2), object(10)\n",
      "memory usage: 42.6+ MB\n"
     ]
    }
   ],
   "source": [
    "train_df.info()"
   ]
  },
  {
   "cell_type": "code",
   "execution_count": 9,
   "metadata": {},
   "outputs": [
    {
     "data": {
      "text/plain": [
       "(253561, 21)"
      ]
     },
     "execution_count": 9,
     "metadata": {},
     "output_type": "execute_result"
    }
   ],
   "source": [
    "train_df.shape"
   ]
  },
  {
   "cell_type": "code",
   "execution_count": 10,
   "metadata": {},
   "outputs": [
    {
     "data": {
      "text/html": [
       "<div>\n",
       "<style scoped>\n",
       "    .dataframe tbody tr th:only-of-type {\n",
       "        vertical-align: middle;\n",
       "    }\n",
       "\n",
       "    .dataframe tbody tr th {\n",
       "        vertical-align: top;\n",
       "    }\n",
       "\n",
       "    .dataframe thead th {\n",
       "        text-align: right;\n",
       "    }\n",
       "</style>\n",
       "<table border=\"1\" class=\"dataframe\">\n",
       "  <thead>\n",
       "    <tr style=\"text-align: right;\">\n",
       "      <th></th>\n",
       "      <th>site1</th>\n",
       "      <th>time1</th>\n",
       "      <th>site2</th>\n",
       "      <th>time2</th>\n",
       "      <th>site3</th>\n",
       "      <th>time3</th>\n",
       "      <th>site4</th>\n",
       "      <th>time4</th>\n",
       "      <th>site5</th>\n",
       "      <th>time5</th>\n",
       "      <th>site6</th>\n",
       "      <th>time6</th>\n",
       "      <th>site7</th>\n",
       "      <th>time7</th>\n",
       "      <th>site8</th>\n",
       "      <th>time8</th>\n",
       "      <th>site9</th>\n",
       "      <th>time9</th>\n",
       "      <th>site10</th>\n",
       "      <th>time10</th>\n",
       "    </tr>\n",
       "    <tr>\n",
       "      <th>session_id</th>\n",
       "      <th></th>\n",
       "      <th></th>\n",
       "      <th></th>\n",
       "      <th></th>\n",
       "      <th></th>\n",
       "      <th></th>\n",
       "      <th></th>\n",
       "      <th></th>\n",
       "      <th></th>\n",
       "      <th></th>\n",
       "      <th></th>\n",
       "      <th></th>\n",
       "      <th></th>\n",
       "      <th></th>\n",
       "      <th></th>\n",
       "      <th></th>\n",
       "      <th></th>\n",
       "      <th></th>\n",
       "      <th></th>\n",
       "      <th></th>\n",
       "    </tr>\n",
       "  </thead>\n",
       "  <tbody>\n",
       "    <tr>\n",
       "      <th>1</th>\n",
       "      <td>29</td>\n",
       "      <td>2014-10-04 11:19:53</td>\n",
       "      <td>35.0</td>\n",
       "      <td>2014-10-04 11:19:53</td>\n",
       "      <td>22.0</td>\n",
       "      <td>2014-10-04 11:19:54</td>\n",
       "      <td>321.0</td>\n",
       "      <td>2014-10-04 11:19:54</td>\n",
       "      <td>23.0</td>\n",
       "      <td>2014-10-04 11:19:54</td>\n",
       "      <td>2211.0</td>\n",
       "      <td>2014-10-04 11:19:54</td>\n",
       "      <td>6730.0</td>\n",
       "      <td>2014-10-04 11:19:54</td>\n",
       "      <td>21.0</td>\n",
       "      <td>2014-10-04 11:19:54</td>\n",
       "      <td>44582.0</td>\n",
       "      <td>2014-10-04 11:20:00</td>\n",
       "      <td>15336.0</td>\n",
       "      <td>2014-10-04 11:20:00</td>\n",
       "    </tr>\n",
       "    <tr>\n",
       "      <th>2</th>\n",
       "      <td>782</td>\n",
       "      <td>2014-07-03 11:00:28</td>\n",
       "      <td>782.0</td>\n",
       "      <td>2014-07-03 11:00:53</td>\n",
       "      <td>782.0</td>\n",
       "      <td>2014-07-03 11:00:58</td>\n",
       "      <td>782.0</td>\n",
       "      <td>2014-07-03 11:01:06</td>\n",
       "      <td>782.0</td>\n",
       "      <td>2014-07-03 11:01:09</td>\n",
       "      <td>782.0</td>\n",
       "      <td>2014-07-03 11:01:10</td>\n",
       "      <td>782.0</td>\n",
       "      <td>2014-07-03 11:01:23</td>\n",
       "      <td>782.0</td>\n",
       "      <td>2014-07-03 11:01:29</td>\n",
       "      <td>782.0</td>\n",
       "      <td>2014-07-03 11:01:30</td>\n",
       "      <td>782.0</td>\n",
       "      <td>2014-07-03 11:01:53</td>\n",
       "    </tr>\n",
       "    <tr>\n",
       "      <th>3</th>\n",
       "      <td>55</td>\n",
       "      <td>2014-12-05 15:55:12</td>\n",
       "      <td>55.0</td>\n",
       "      <td>2014-12-05 15:55:13</td>\n",
       "      <td>55.0</td>\n",
       "      <td>2014-12-05 15:55:14</td>\n",
       "      <td>55.0</td>\n",
       "      <td>2014-12-05 15:56:15</td>\n",
       "      <td>55.0</td>\n",
       "      <td>2014-12-05 15:56:16</td>\n",
       "      <td>55.0</td>\n",
       "      <td>2014-12-05 15:56:17</td>\n",
       "      <td>55.0</td>\n",
       "      <td>2014-12-05 15:56:18</td>\n",
       "      <td>55.0</td>\n",
       "      <td>2014-12-05 15:56:19</td>\n",
       "      <td>1445.0</td>\n",
       "      <td>2014-12-05 15:56:33</td>\n",
       "      <td>1445.0</td>\n",
       "      <td>2014-12-05 15:56:36</td>\n",
       "    </tr>\n",
       "    <tr>\n",
       "      <th>4</th>\n",
       "      <td>1023</td>\n",
       "      <td>2014-11-04 10:03:19</td>\n",
       "      <td>1022.0</td>\n",
       "      <td>2014-11-04 10:03:19</td>\n",
       "      <td>50.0</td>\n",
       "      <td>2014-11-04 10:03:20</td>\n",
       "      <td>222.0</td>\n",
       "      <td>2014-11-04 10:03:21</td>\n",
       "      <td>202.0</td>\n",
       "      <td>2014-11-04 10:03:21</td>\n",
       "      <td>3374.0</td>\n",
       "      <td>2014-11-04 10:03:22</td>\n",
       "      <td>50.0</td>\n",
       "      <td>2014-11-04 10:03:22</td>\n",
       "      <td>48.0</td>\n",
       "      <td>2014-11-04 10:03:22</td>\n",
       "      <td>48.0</td>\n",
       "      <td>2014-11-04 10:03:23</td>\n",
       "      <td>3374.0</td>\n",
       "      <td>2014-11-04 10:03:23</td>\n",
       "    </tr>\n",
       "    <tr>\n",
       "      <th>5</th>\n",
       "      <td>301</td>\n",
       "      <td>2014-05-16 15:05:31</td>\n",
       "      <td>301.0</td>\n",
       "      <td>2014-05-16 15:05:32</td>\n",
       "      <td>301.0</td>\n",
       "      <td>2014-05-16 15:05:33</td>\n",
       "      <td>66.0</td>\n",
       "      <td>2014-05-16 15:05:39</td>\n",
       "      <td>67.0</td>\n",
       "      <td>2014-05-16 15:05:40</td>\n",
       "      <td>69.0</td>\n",
       "      <td>2014-05-16 15:05:40</td>\n",
       "      <td>70.0</td>\n",
       "      <td>2014-05-16 15:05:40</td>\n",
       "      <td>68.0</td>\n",
       "      <td>2014-05-16 15:05:40</td>\n",
       "      <td>71.0</td>\n",
       "      <td>2014-05-16 15:05:40</td>\n",
       "      <td>167.0</td>\n",
       "      <td>2014-05-16 15:05:44</td>\n",
       "    </tr>\n",
       "  </tbody>\n",
       "</table>\n",
       "</div>"
      ],
      "text/plain": [
       "            site1                time1   site2                time2  site3  \\\n",
       "session_id                                                                   \n",
       "1              29  2014-10-04 11:19:53    35.0  2014-10-04 11:19:53   22.0   \n",
       "2             782  2014-07-03 11:00:28   782.0  2014-07-03 11:00:53  782.0   \n",
       "3              55  2014-12-05 15:55:12    55.0  2014-12-05 15:55:13   55.0   \n",
       "4            1023  2014-11-04 10:03:19  1022.0  2014-11-04 10:03:19   50.0   \n",
       "5             301  2014-05-16 15:05:31   301.0  2014-05-16 15:05:32  301.0   \n",
       "\n",
       "                          time3  site4                time4  site5  \\\n",
       "session_id                                                           \n",
       "1           2014-10-04 11:19:54  321.0  2014-10-04 11:19:54   23.0   \n",
       "2           2014-07-03 11:00:58  782.0  2014-07-03 11:01:06  782.0   \n",
       "3           2014-12-05 15:55:14   55.0  2014-12-05 15:56:15   55.0   \n",
       "4           2014-11-04 10:03:20  222.0  2014-11-04 10:03:21  202.0   \n",
       "5           2014-05-16 15:05:33   66.0  2014-05-16 15:05:39   67.0   \n",
       "\n",
       "                          time5   site6                time6   site7  \\\n",
       "session_id                                                             \n",
       "1           2014-10-04 11:19:54  2211.0  2014-10-04 11:19:54  6730.0   \n",
       "2           2014-07-03 11:01:09   782.0  2014-07-03 11:01:10   782.0   \n",
       "3           2014-12-05 15:56:16    55.0  2014-12-05 15:56:17    55.0   \n",
       "4           2014-11-04 10:03:21  3374.0  2014-11-04 10:03:22    50.0   \n",
       "5           2014-05-16 15:05:40    69.0  2014-05-16 15:05:40    70.0   \n",
       "\n",
       "                          time7  site8                time8    site9  \\\n",
       "session_id                                                             \n",
       "1           2014-10-04 11:19:54   21.0  2014-10-04 11:19:54  44582.0   \n",
       "2           2014-07-03 11:01:23  782.0  2014-07-03 11:01:29    782.0   \n",
       "3           2014-12-05 15:56:18   55.0  2014-12-05 15:56:19   1445.0   \n",
       "4           2014-11-04 10:03:22   48.0  2014-11-04 10:03:22     48.0   \n",
       "5           2014-05-16 15:05:40   68.0  2014-05-16 15:05:40     71.0   \n",
       "\n",
       "                          time9   site10               time10  \n",
       "session_id                                                     \n",
       "1           2014-10-04 11:20:00  15336.0  2014-10-04 11:20:00  \n",
       "2           2014-07-03 11:01:30    782.0  2014-07-03 11:01:53  \n",
       "3           2014-12-05 15:56:33   1445.0  2014-12-05 15:56:36  \n",
       "4           2014-11-04 10:03:23   3374.0  2014-11-04 10:03:23  \n",
       "5           2014-05-16 15:05:40    167.0  2014-05-16 15:05:44  "
      ]
     },
     "execution_count": 10,
     "metadata": {},
     "output_type": "execute_result"
    }
   ],
   "source": [
    "test_df.head()"
   ]
  },
  {
   "cell_type": "code",
   "execution_count": 11,
   "metadata": {},
   "outputs": [
    {
     "name": "stdout",
     "output_type": "stream",
     "text": [
      "<class 'pandas.core.frame.DataFrame'>\n",
      "Int64Index: 82797 entries, 1 to 82797\n",
      "Data columns (total 20 columns):\n",
      " #   Column  Non-Null Count  Dtype  \n",
      "---  ------  --------------  -----  \n",
      " 0   site1   82797 non-null  int64  \n",
      " 1   time1   82797 non-null  object \n",
      " 2   site2   81308 non-null  float64\n",
      " 3   time2   81308 non-null  object \n",
      " 4   site3   80075 non-null  float64\n",
      " 5   time3   80075 non-null  object \n",
      " 6   site4   79182 non-null  float64\n",
      " 7   time4   79182 non-null  object \n",
      " 8   site5   78341 non-null  float64\n",
      " 9   time5   78341 non-null  object \n",
      " 10  site6   77566 non-null  float64\n",
      " 11  time6   77566 non-null  object \n",
      " 12  site7   76840 non-null  float64\n",
      " 13  time7   76840 non-null  object \n",
      " 14  site8   76151 non-null  float64\n",
      " 15  time8   76151 non-null  object \n",
      " 16  site9   75484 non-null  float64\n",
      " 17  time9   75484 non-null  object \n",
      " 18  site10  74806 non-null  float64\n",
      " 19  time10  74806 non-null  object \n",
      "dtypes: float64(9), int64(1), object(10)\n",
      "memory usage: 13.3+ MB\n"
     ]
    }
   ],
   "source": [
    "test_df.info()"
   ]
  },
  {
   "cell_type": "markdown",
   "metadata": {},
   "source": [
    "**В обучающей выборке – 2297 сессий одного пользователя (Alice) и 251264 сессий – других пользователей, не Элис. Дисбаланс классов очень сильный, и смотреть на долю верных ответов (accuracy) непоказательно.**"
   ]
  },
  {
   "cell_type": "code",
   "execution_count": 12,
   "metadata": {},
   "outputs": [
    {
     "data": {
      "text/plain": [
       "0    251264\n",
       "1      2297\n",
       "Name: target, dtype: int64"
      ]
     },
     "execution_count": 12,
     "metadata": {},
     "output_type": "execute_result"
    }
   ],
   "source": [
    "train_df['target'].value_counts()"
   ]
  },
  {
   "cell_type": "markdown",
   "metadata": {},
   "source": [
    "## 2. Feature engineering"
   ]
  },
  {
   "cell_type": "markdown",
   "metadata": {},
   "source": [
    "Поскольку последовательность сайтов в списке из 10 можно представить в виде конкретного вектора в пространстве, то было бы неплохо рассматривать не только частоты сайтов, но и похожесть этих векторов друг на друга. Запишем матрицы сайтов в файлы."
   ]
  },
  {
   "cell_type": "code",
   "execution_count": 13,
   "metadata": {},
   "outputs": [],
   "source": [
    "sites = ['site%s' % i for i in range(1, 11)]\n",
    "train_df[sites].fillna(0).astype('int').to_csv('train_sessions_text.txt', \n",
    "                                               sep=' ', \n",
    "                       index=None, header=None)\n",
    "test_df[sites].fillna(0).astype('int').to_csv('test_sessions_text.txt', \n",
    "                                              sep=' ', \n",
    "                       index=None, header=None)"
   ]
  },
  {
   "cell_type": "markdown",
   "metadata": {},
   "source": [
    "Воспользуемся стандартной утилитой CountVectorizer для построения разреженной матрицы для сайтов. Что бы добавить собственные новые признаки необходимо создавать разреженную матрицу вручную."
   ]
  },
  {
   "cell_type": "code",
   "execution_count": 14,
   "metadata": {},
   "outputs": [],
   "source": [
    "def sparce_matrix(A):\n",
    "    docs = A.values\n",
    "    indptr = [0]\n",
    "    indices = []\n",
    "    data = []\n",
    "    vocabulary = {}\n",
    "    for d in docs:\n",
    "        for term in d:\n",
    "            index = vocabulary.setdefault(term, term)\n",
    "            indices.append(index)\n",
    "            data.append(1)\n",
    "        indptr.append(len(indices))\n",
    "    X_sparce = csr_matrix((data, indices, indptr))\n",
    "    return X_sparce"
   ]
  },
  {
   "cell_type": "code",
   "execution_count": 15,
   "metadata": {},
   "outputs": [],
   "source": [
    "from sklearn.feature_extraction.text import CountVectorizer\n",
    "from collections import Counter"
   ]
  },
  {
   "cell_type": "markdown",
   "metadata": {},
   "source": [
    "Построим разреженные матрицы для сайтов"
   ]
  },
  {
   "cell_type": "code",
   "execution_count": 16,
   "metadata": {},
   "outputs": [
    {
     "name": "stdout",
     "output_type": "stream",
     "text": [
      "Wall time: 40.7 s\n"
     ]
    }
   ],
   "source": [
    "%%time\n",
    "cv = CountVectorizer(ngram_range=(1, 3), max_features=50000)\n",
    "with open('train_sessions_text.txt') as inp_train_file:\n",
    "    X_train_text = cv.fit_transform(inp_train_file)\n",
    "with open('test_sessions_text.txt') as inp_test_file:\n",
    "    X_test_text = cv.transform(inp_test_file)"
   ]
  },
  {
   "cell_type": "markdown",
   "metadata": {},
   "source": [
    "Поскольку несколько сайтов встречается в сессии достаточно часто, планируется ввести признак отвечающий за самый частый сайт в сессии и признак за вхождение этого частого сайта в топ20 сайтов по общему посещению всеми пользователями. Для создания вспомогательного датафрейма используем словарь сайтов из соревнования."
   ]
  },
  {
   "cell_type": "code",
   "execution_count": 17,
   "metadata": {},
   "outputs": [
    {
     "data": {
      "text/html": [
       "<div>\n",
       "<style scoped>\n",
       "    .dataframe tbody tr th:only-of-type {\n",
       "        vertical-align: middle;\n",
       "    }\n",
       "\n",
       "    .dataframe tbody tr th {\n",
       "        vertical-align: top;\n",
       "    }\n",
       "\n",
       "    .dataframe thead th {\n",
       "        text-align: right;\n",
       "    }\n",
       "</style>\n",
       "<table border=\"1\" class=\"dataframe\">\n",
       "  <thead>\n",
       "    <tr style=\"text-align: right;\">\n",
       "      <th></th>\n",
       "      <th>name</th>\n",
       "      <th>len</th>\n",
       "      <th>domain</th>\n",
       "    </tr>\n",
       "    <tr>\n",
       "      <th>site1</th>\n",
       "      <th></th>\n",
       "      <th></th>\n",
       "      <th></th>\n",
       "    </tr>\n",
       "  </thead>\n",
       "  <tbody>\n",
       "    <tr>\n",
       "      <th>25075</th>\n",
       "      <td>www.abmecatronique.com</td>\n",
       "      <td>3</td>\n",
       "      <td>com</td>\n",
       "    </tr>\n",
       "    <tr>\n",
       "      <th>13997</th>\n",
       "      <td>groups.live.com</td>\n",
       "      <td>3</td>\n",
       "      <td>com</td>\n",
       "    </tr>\n",
       "    <tr>\n",
       "      <th>42436</th>\n",
       "      <td>majeureliguefootball.wordpress.com</td>\n",
       "      <td>3</td>\n",
       "      <td>com</td>\n",
       "    </tr>\n",
       "    <tr>\n",
       "      <th>30911</th>\n",
       "      <td>cdt46.media.tourinsoft.eu</td>\n",
       "      <td>4</td>\n",
       "      <td>eu</td>\n",
       "    </tr>\n",
       "    <tr>\n",
       "      <th>8104</th>\n",
       "      <td>www.hdwallpapers.eu</td>\n",
       "      <td>3</td>\n",
       "      <td>eu</td>\n",
       "    </tr>\n",
       "  </tbody>\n",
       "</table>\n",
       "</div>"
      ],
      "text/plain": [
       "                                     name  len domain\n",
       "site1                                                \n",
       "25075              www.abmecatronique.com    3    com\n",
       "13997                     groups.live.com    3    com\n",
       "42436  majeureliguefootball.wordpress.com    3    com\n",
       "30911           cdt46.media.tourinsoft.eu    4     eu\n",
       "8104                  www.hdwallpapers.eu    3     eu"
      ]
     },
     "execution_count": 17,
     "metadata": {},
     "output_type": "execute_result"
    }
   ],
   "source": [
    "hosts = pd.read_pickle(os.path.join(PATH_TO_DATA, 'site_dic.pkl'))\n",
    "hosts = pd.DataFrame(data=list(hosts.keys()), index=list(hosts.values()), columns=['name'])\n",
    "\n",
    "hosts['split'] = hosts['name'].str.split('.')\n",
    "hosts['len'] = hosts['split'].map(lambda x: len(x)).astype(np.int8)\n",
    "hosts['domain'] = hosts['split'].map(lambda x: x[-1])\n",
    "\n",
    "hosts.drop(['split'], inplace=True, axis=1)\n",
    "hosts.index.rename('site1', inplace=True)\n",
    "hosts.head()"
   ]
  },
  {
   "cell_type": "markdown",
   "metadata": {},
   "source": [
    "Напишем функцию, что будет возвращать новый датафрейм с интересующими нас признаками"
   ]
  },
  {
   "cell_type": "code",
   "execution_count": 18,
   "metadata": {},
   "outputs": [],
   "source": [
    "def feature_engineering(data_frame):\n",
    "    data = data_frame.copy()\n",
    "    data.fillna(0, inplace=True)\n",
    "    \n",
    "    \n",
    "    ## самый популярный сайт в сессии, если вхождения уникальны - то первый по порядку сайт\n",
    "    sites_columns = [col for col in data.columns if 'site' in col]\n",
    "    data[sites_columns]=data[sites_columns].astype('int')\n",
    "    max_freq_site = pd.Series([0], name='sess_popular')\n",
    "    second = pd.Series([np.argmax(np.bincount(row)) for row in data[sites_columns].values],\n",
    "                              name='sess_popular')\n",
    "    max_freq_site = max_freq_site.append(second, ignore_index=True)\n",
    "    data['sess_popular']=max_freq_site\n",
    "    \n",
    "    ## Совпадение с топ20, 1-да,0-нет\n",
    "    data = pd.merge(data, hosts, how='left', on='site1')\n",
    "    top20 = [s for s, freq in Counter(data.name).most_common(20)]\n",
    "    dict_site = pd.read_pickle(os.path.join(PATH_TO_DATA, 'site_dic.pkl'))\n",
    "    dict_site = {id_site: name for name, id_site in zip(dict_site.keys(), dict_site.values())}\n",
    "    \n",
    "\n",
    "    temp = []\n",
    "    for i in range(data.shape[0]):\n",
    "        try:\n",
    "            if dict_site[new_feature['sess_popular'][i]] in top20:\n",
    "                temp.append(1)\n",
    "            else:\n",
    "                temp.append(0)\n",
    "        except:\n",
    "            temp.append(0)\n",
    "    data['top20'] = temp\n",
    "    \n",
    "   \n",
    "    ## Признаки на основании дат\n",
    "    times_columns = [col for col in data.columns if 'time' in col]\n",
    "    for col in times_columns:\n",
    "        data[col]=data[col].apply(pd.Timestamp)\n",
    "        \n",
    "    data['hour'] = data['time1'].apply(lambda ts: ts.hour)\n",
    "    data['month'] = data['time1'].apply(lambda ts: ts.month)\n",
    "    data['year'] = data['time1'].apply(lambda ts: ts.year)\n",
    "    data['week'] = data['time1'].apply(lambda ts: ts.week)\n",
    "    data['week_day'] = data['time1'].apply(lambda ts: ts.dayofweek)\n",
    "    data['month_year']=data['month']+data['year']*100\n",
    "    data['weekend'] = [1 if day>=5 else 0 for day in data['week_day']]\n",
    "    \n",
    "    ## Длинна сессии\n",
    "    data['durations']=[(max(row).view(np.int64)-row[0].view(np.int64))/10**9 for row in data[times_columns].values]\n",
    "        \n",
    "    ## Часть дня\n",
    "    part_of_day = []\n",
    "    for value in  data['hour']:\n",
    "        if 7<=value<=11:\n",
    "            part='0'\n",
    "        elif 11<value<=18:\n",
    "            part = '1'\n",
    "        elif 18<value<23:\n",
    "            part = '2'\n",
    "        else :\n",
    "            part = '3'\n",
    "        part_of_day.append(part)\n",
    "    data['day_part']=part_of_day\n",
    "    \n",
    "    ## разница между двумя переходами с сайта на сайт во времени\n",
    "    for i,col in enumerate(times_columns[1:]):\n",
    "        data[f'diff_{col}_{times_columns[i]}']=(data[col].view(np.int64)-data[times_columns[i]].view(np.int64)) / 10**9\n",
    "        \n",
    "\n",
    "    data.drop(times_columns, axis=1, inplace=True)\n",
    "    data.drop([\n",
    "#                 'target',\n",
    "               'name',\n",
    "               'site1',\n",
    "                'site2',\n",
    "                'site3',\n",
    "                'site4',\n",
    "                'site5',\n",
    "                'site6',\n",
    "                'site7',\n",
    "                'site8',\n",
    "                'site9',\n",
    "                'site10',\n",
    "#                'domain'\n",
    "              ], axis=1, inplace=True)\n",
    "        \n",
    "    return data"
   ]
  },
  {
   "cell_type": "code",
   "execution_count": 19,
   "metadata": {},
   "outputs": [],
   "source": [
    "new_feature = feature_engineering(train_test_df)"
   ]
  },
  {
   "cell_type": "code",
   "execution_count": 20,
   "metadata": {},
   "outputs": [
    {
     "data": {
      "text/plain": [
       "Index(['target', 'sess_popular', 'len', 'domain', 'top20', 'hour', 'month',\n",
       "       'year', 'week', 'week_day', 'month_year', 'weekend', 'durations',\n",
       "       'day_part', 'diff_time2_time1', 'diff_time3_time2', 'diff_time4_time3',\n",
       "       'diff_time5_time4', 'diff_time6_time5', 'diff_time7_time6',\n",
       "       'diff_time8_time7', 'diff_time9_time8', 'diff_time10_time9'],\n",
       "      dtype='object')"
      ]
     },
     "execution_count": 20,
     "metadata": {},
     "output_type": "execute_result"
    }
   ],
   "source": [
    "new_feature.columns"
   ]
  },
  {
   "cell_type": "markdown",
   "metadata": {},
   "source": [
    "## 3. Basic EDA"
   ]
  },
  {
   "cell_type": "markdown",
   "metadata": {},
   "source": [
    "Проведем некоторое графическое исследование полученых данных"
   ]
  },
  {
   "cell_type": "code",
   "execution_count": 21,
   "metadata": {},
   "outputs": [
    {
     "data": {
      "text/html": [
       "<div>\n",
       "<style scoped>\n",
       "    .dataframe tbody tr th:only-of-type {\n",
       "        vertical-align: middle;\n",
       "    }\n",
       "\n",
       "    .dataframe tbody tr th {\n",
       "        vertical-align: top;\n",
       "    }\n",
       "\n",
       "    .dataframe thead th {\n",
       "        text-align: right;\n",
       "    }\n",
       "</style>\n",
       "<table border=\"1\" class=\"dataframe\">\n",
       "  <thead>\n",
       "    <tr style=\"text-align: right;\">\n",
       "      <th></th>\n",
       "      <th>target</th>\n",
       "      <th>sess_popular</th>\n",
       "      <th>len</th>\n",
       "      <th>domain</th>\n",
       "      <th>top20</th>\n",
       "      <th>hour</th>\n",
       "      <th>month</th>\n",
       "      <th>year</th>\n",
       "      <th>week</th>\n",
       "      <th>week_day</th>\n",
       "      <th>...</th>\n",
       "      <th>day_part</th>\n",
       "      <th>diff_time2_time1</th>\n",
       "      <th>diff_time3_time2</th>\n",
       "      <th>diff_time4_time3</th>\n",
       "      <th>diff_time5_time4</th>\n",
       "      <th>diff_time6_time5</th>\n",
       "      <th>diff_time7_time6</th>\n",
       "      <th>diff_time8_time7</th>\n",
       "      <th>diff_time9_time8</th>\n",
       "      <th>diff_time10_time9</th>\n",
       "    </tr>\n",
       "  </thead>\n",
       "  <tbody>\n",
       "    <tr>\n",
       "      <th>0</th>\n",
       "      <td>0.0</td>\n",
       "      <td>3846</td>\n",
       "      <td>4</td>\n",
       "      <td>com</td>\n",
       "      <td>0</td>\n",
       "      <td>8</td>\n",
       "      <td>1</td>\n",
       "      <td>2013</td>\n",
       "      <td>2</td>\n",
       "      <td>5</td>\n",
       "      <td>...</td>\n",
       "      <td>0</td>\n",
       "      <td>0.0</td>\n",
       "      <td>-1.357978e+09</td>\n",
       "      <td>0.0</td>\n",
       "      <td>0.000000e+00</td>\n",
       "      <td>0.0</td>\n",
       "      <td>0.0</td>\n",
       "      <td>0.0</td>\n",
       "      <td>0.0</td>\n",
       "      <td>0.0</td>\n",
       "    </tr>\n",
       "    <tr>\n",
       "      <th>1</th>\n",
       "      <td>0.0</td>\n",
       "      <td>23</td>\n",
       "      <td>4</td>\n",
       "      <td>com</td>\n",
       "      <td>0</td>\n",
       "      <td>8</td>\n",
       "      <td>1</td>\n",
       "      <td>2013</td>\n",
       "      <td>2</td>\n",
       "      <td>5</td>\n",
       "      <td>...</td>\n",
       "      <td>0</td>\n",
       "      <td>0.0</td>\n",
       "      <td>1.784000e+03</td>\n",
       "      <td>2.0</td>\n",
       "      <td>-1.357982e+09</td>\n",
       "      <td>0.0</td>\n",
       "      <td>0.0</td>\n",
       "      <td>0.0</td>\n",
       "      <td>0.0</td>\n",
       "      <td>0.0</td>\n",
       "    </tr>\n",
       "    <tr>\n",
       "      <th>2</th>\n",
       "      <td>0.0</td>\n",
       "      <td>21</td>\n",
       "      <td>3</td>\n",
       "      <td>org</td>\n",
       "      <td>0</td>\n",
       "      <td>8</td>\n",
       "      <td>1</td>\n",
       "      <td>2013</td>\n",
       "      <td>2</td>\n",
       "      <td>5</td>\n",
       "      <td>...</td>\n",
       "      <td>0</td>\n",
       "      <td>1.0</td>\n",
       "      <td>1.000000e+00</td>\n",
       "      <td>0.0</td>\n",
       "      <td>1.000000e+00</td>\n",
       "      <td>0.0</td>\n",
       "      <td>0.0</td>\n",
       "      <td>0.0</td>\n",
       "      <td>1.0</td>\n",
       "      <td>0.0</td>\n",
       "    </tr>\n",
       "    <tr>\n",
       "      <th>3</th>\n",
       "      <td>0.0</td>\n",
       "      <td>616</td>\n",
       "      <td>3</td>\n",
       "      <td>com</td>\n",
       "      <td>0</td>\n",
       "      <td>8</td>\n",
       "      <td>1</td>\n",
       "      <td>2013</td>\n",
       "      <td>2</td>\n",
       "      <td>5</td>\n",
       "      <td>...</td>\n",
       "      <td>0</td>\n",
       "      <td>0.0</td>\n",
       "      <td>1.000000e+00</td>\n",
       "      <td>0.0</td>\n",
       "      <td>0.000000e+00</td>\n",
       "      <td>0.0</td>\n",
       "      <td>1.0</td>\n",
       "      <td>0.0</td>\n",
       "      <td>0.0</td>\n",
       "      <td>1.0</td>\n",
       "    </tr>\n",
       "    <tr>\n",
       "      <th>4</th>\n",
       "      <td>0.0</td>\n",
       "      <td>786</td>\n",
       "      <td>4</td>\n",
       "      <td>com</td>\n",
       "      <td>0</td>\n",
       "      <td>8</td>\n",
       "      <td>1</td>\n",
       "      <td>2013</td>\n",
       "      <td>2</td>\n",
       "      <td>5</td>\n",
       "      <td>...</td>\n",
       "      <td>0</td>\n",
       "      <td>0.0</td>\n",
       "      <td>0.000000e+00</td>\n",
       "      <td>1.0</td>\n",
       "      <td>0.000000e+00</td>\n",
       "      <td>0.0</td>\n",
       "      <td>0.0</td>\n",
       "      <td>1.0</td>\n",
       "      <td>0.0</td>\n",
       "      <td>0.0</td>\n",
       "    </tr>\n",
       "  </tbody>\n",
       "</table>\n",
       "<p>5 rows × 23 columns</p>\n",
       "</div>"
      ],
      "text/plain": [
       "   target  sess_popular  len domain  top20  hour  month  year  week  week_day  \\\n",
       "0     0.0          3846    4    com      0     8      1  2013     2         5   \n",
       "1     0.0            23    4    com      0     8      1  2013     2         5   \n",
       "2     0.0            21    3    org      0     8      1  2013     2         5   \n",
       "3     0.0           616    3    com      0     8      1  2013     2         5   \n",
       "4     0.0           786    4    com      0     8      1  2013     2         5   \n",
       "\n",
       "   ...  day_part  diff_time2_time1  diff_time3_time2 diff_time4_time3  \\\n",
       "0  ...         0               0.0     -1.357978e+09              0.0   \n",
       "1  ...         0               0.0      1.784000e+03              2.0   \n",
       "2  ...         0               1.0      1.000000e+00              0.0   \n",
       "3  ...         0               0.0      1.000000e+00              0.0   \n",
       "4  ...         0               0.0      0.000000e+00              1.0   \n",
       "\n",
       "   diff_time5_time4  diff_time6_time5  diff_time7_time6  diff_time8_time7  \\\n",
       "0      0.000000e+00               0.0               0.0               0.0   \n",
       "1     -1.357982e+09               0.0               0.0               0.0   \n",
       "2      1.000000e+00               0.0               0.0               0.0   \n",
       "3      0.000000e+00               0.0               1.0               0.0   \n",
       "4      0.000000e+00               0.0               0.0               1.0   \n",
       "\n",
       "   diff_time9_time8  diff_time10_time9  \n",
       "0               0.0                0.0  \n",
       "1               0.0                0.0  \n",
       "2               1.0                0.0  \n",
       "3               0.0                1.0  \n",
       "4               0.0                0.0  \n",
       "\n",
       "[5 rows x 23 columns]"
      ]
     },
     "execution_count": 21,
     "metadata": {},
     "output_type": "execute_result"
    }
   ],
   "source": [
    "new_feature.head()"
   ]
  },
  {
   "cell_type": "markdown",
   "metadata": {},
   "source": [
    "Будем строить графики распределений справа для Алисы, слева для остальных"
   ]
  },
  {
   "cell_type": "code",
   "execution_count": 22,
   "metadata": {},
   "outputs": [],
   "source": [
    "other = new_feature[new_feature.loc[:,'target']==0]\n",
    "alice = new_feature[new_feature.loc[:,'target']==1]"
   ]
  },
  {
   "cell_type": "markdown",
   "metadata": {},
   "source": [
    "#### 1 Разбиение по частям дня "
   ]
  },
  {
   "cell_type": "code",
   "execution_count": 23,
   "metadata": {},
   "outputs": [
    {
     "data": {
      "text/plain": [
       "<matplotlib.legend.Legend at 0xaeb20ebc08>"
      ]
     },
     "execution_count": 23,
     "metadata": {},
     "output_type": "execute_result"
    },
    {
     "data": {
      "image/png": "[encoded data removed]",
      "text/plain": [
       "<Figure size 1080x360 with 2 Axes>"
      ]
     },
     "metadata": {
      "needs_background": "light"
     },
     "output_type": "display_data"
    }
   ],
   "source": [
    "import matplotlib.pyplot as plt\n",
    "fig, [ax1, ax2] = plt.subplots(1,2, figsize=(15,5))\n",
    "other.day_part.hist(ax=ax1,label= 'Other')\n",
    "ax1.set_xlabel('Часть дня')\n",
    "alice.day_part.hist(ax=ax2, label= 'Alice')\n",
    "ax2.set_xlabel('Часть дня')\n",
    "ax1.legend()\n",
    "ax2.legend()"
   ]
  },
  {
   "cell_type": "markdown",
   "metadata": {},
   "source": [
    "#### 2 Разбиение по дням недели "
   ]
  },
  {
   "cell_type": "code",
   "execution_count": 24,
   "metadata": {},
   "outputs": [
    {
     "data": {
      "text/plain": [
       "<matplotlib.legend.Legend at 0xaeafebe688>"
      ]
     },
     "execution_count": 24,
     "metadata": {},
     "output_type": "execute_result"
    },
    {
     "data": {
      "image/png": "[encoded data removed]",
      "text/plain": [
       "<Figure size 1080x360 with 2 Axes>"
      ]
     },
     "metadata": {
      "needs_background": "light"
     },
     "output_type": "display_data"
    }
   ],
   "source": [
    "fig, [ax1, ax2] = plt.subplots(1,2, figsize=(15,5))\n",
    "other.week_day.hist(ax=ax1, label='Other', bins=7)\n",
    "alice.week_day.hist(ax=ax2, label='Alice', bins=7)\n",
    "ax1.set_xlabel('День недели')\n",
    "ax2.set_xlabel('День недели')\n",
    "ax1.legend()\n",
    "ax2.legend()"
   ]
  },
  {
   "cell_type": "markdown",
   "metadata": {},
   "source": [
    "#### 3 Разбиение по часам начала сессии"
   ]
  },
  {
   "cell_type": "code",
   "execution_count": 25,
   "metadata": {},
   "outputs": [
    {
     "data": {
      "text/plain": [
       "<matplotlib.legend.Legend at 0xaeb117da08>"
      ]
     },
     "execution_count": 25,
     "metadata": {},
     "output_type": "execute_result"
    },
    {
     "data": {
      "image/png": "[encoded data removed]",
      "text/plain": [
       "<Figure size 1080x360 with 2 Axes>"
      ]
     },
     "metadata": {
      "needs_background": "light"
     },
     "output_type": "display_data"
    }
   ],
   "source": [
    "fig, [ax1, ax2] = plt.subplots(1,2, figsize=(15,5))\n",
    "other.hour.hist(ax=ax1, label='Other', bins=24)\n",
    "alice.hour.hist(ax=ax2, label='Alice', bins=24)\n",
    "ax1.set_xlabel('Час начала сессии')\n",
    "ax2.set_xlabel('Час начала сессии')\n",
    "ax1.legend()\n",
    "ax2.legend()"
   ]
  },
  {
   "cell_type": "markdown",
   "metadata": {},
   "source": [
    "#### 4 Разбиение по признаку год - месяц"
   ]
  },
  {
   "cell_type": "code",
   "execution_count": 26,
   "metadata": {},
   "outputs": [
    {
     "data": {
      "text/plain": [
       "<matplotlib.legend.Legend at 0xaeac778048>"
      ]
     },
     "execution_count": 26,
     "metadata": {},
     "output_type": "execute_result"
    },
    {
     "data": {
      "image/png": "[encoded data removed]",
      "text/plain": [
       "<Figure size 1080x360 with 2 Axes>"
      ]
     },
     "metadata": {
      "needs_background": "light"
     },
     "output_type": "display_data"
    }
   ],
   "source": [
    "fig, [ax1, ax2] = plt.subplots(1,2, figsize=(15,5))\n",
    "other.month_year.hist(ax=ax1, label='Other')\n",
    "alice.month_year.hist(ax=ax2, label='Alice')\n",
    "ax1.set_xlabel('Год-месяц')\n",
    "ax2.set_xlabel('Год-месяц')\n",
    "ax1.legend()\n",
    "ax2.legend()"
   ]
  },
  {
   "cell_type": "markdown",
   "metadata": {},
   "source": [
    "#### 5 Разбиение по длительности сессии"
   ]
  },
  {
   "cell_type": "code",
   "execution_count": 27,
   "metadata": {},
   "outputs": [
    {
     "data": {
      "text/plain": [
       "<matplotlib.legend.Legend at 0xaeac126388>"
      ]
     },
     "execution_count": 27,
     "metadata": {},
     "output_type": "execute_result"
    },
    {
     "data": {
      "image/png": "[encoded data removed]",
      "text/plain": [
       "<Figure size 1080x360 with 2 Axes>"
      ]
     },
     "metadata": {
      "needs_background": "light"
     },
     "output_type": "display_data"
    }
   ],
   "source": [
    "fig, [ax1, ax2] = plt.subplots(1,2, figsize=(15,5))\n",
    "other.durations.hist(ax=ax1, label='Other', bins=11)\n",
    "alice.durations.hist(ax=ax2, label='Alice', bins=11)\n",
    "ax1.set_xlabel('Длительность')\n",
    "ax2.set_xlabel('Длительность')\n",
    "ax1.legend()\n",
    "ax2.legend()"
   ]
  },
  {
   "cell_type": "markdown",
   "metadata": {},
   "source": [
    "#### 6 Разбиение по доменам в посещенных сайтах"
   ]
  },
  {
   "cell_type": "code",
   "execution_count": 28,
   "metadata": {},
   "outputs": [
    {
     "data": {
      "text/plain": [
       "<matplotlib.legend.Legend at 0xaeaf68cb88>"
      ]
     },
     "execution_count": 28,
     "metadata": {},
     "output_type": "execute_result"
    },
    {
     "data": {
      "image/png": "[encoded data removed]",
      "text/plain": [
       "<Figure size 1080x360 with 2 Axes>"
      ]
     },
     "metadata": {
      "needs_background": "light"
     },
     "output_type": "display_data"
    }
   ],
   "source": [
    "fig, [ax1, ax2] = plt.subplots(1,2, figsize=(15,5))\n",
    "other.domain.hist(ax=ax1, label='Other', bins=26)\n",
    "alice.domain.hist(ax=ax2, label='Alice', bins=26)\n",
    "ax1.set_xlabel('Домены')\n",
    "ax2.set_xlabel('Домены')\n",
    "ax1.legend()\n",
    "ax2.legend()"
   ]
  },
  {
   "cell_type": "markdown",
   "metadata": {},
   "source": [
    "Посмотрим на наиболее популярные домены у взломщиков и нашей Алисы"
   ]
  },
  {
   "cell_type": "code",
   "execution_count": 29,
   "metadata": {},
   "outputs": [
    {
     "data": {
      "text/plain": [
       "com    1665\n",
       "fr      368\n",
       "net     137\n",
       "org      22\n",
       "40       15\n",
       "Name: domain, dtype: int64"
      ]
     },
     "execution_count": 29,
     "metadata": {},
     "output_type": "execute_result"
    }
   ],
   "source": [
    "alice.domain.value_counts()[:5]"
   ]
  },
  {
   "cell_type": "code",
   "execution_count": 30,
   "metadata": {},
   "outputs": [
    {
     "data": {
      "text/plain": [
       "com    205351\n",
       "fr      60355\n",
       "org     22954\n",
       "net     20546\n",
       "gov     12199\n",
       "Name: domain, dtype: int64"
      ]
     },
     "execution_count": 30,
     "metadata": {},
     "output_type": "execute_result"
    }
   ],
   "source": [
    "other.domain.value_counts()[:5]"
   ]
  },
  {
   "cell_type": "markdown",
   "metadata": {},
   "source": [
    "#### 7 Разбиение по тому, входит ли самый популярный сайт в сесссии в топ20 популярных всех пользователей"
   ]
  },
  {
   "cell_type": "code",
   "execution_count": 52,
   "metadata": {},
   "outputs": [
    {
     "data": {
      "text/plain": [
       "<matplotlib.legend.Legend at 0xaeaf723408>"
      ]
     },
     "execution_count": 52,
     "metadata": {},
     "output_type": "execute_result"
    },
    {
     "data": {
      "image/png": "[encoded data removed]",
      "text/plain": [
       "<Figure size 1080x360 with 2 Axes>"
      ]
     },
     "metadata": {
      "needs_background": "light"
     },
     "output_type": "display_data"
    }
   ],
   "source": [
    "fig, [ax1, ax2] = plt.subplots(1,2, figsize=(15,5))\n",
    "other.top20.hist(ax=ax1, label='Other')\n",
    "alice.top20.hist(ax=ax2, label='Alice')\n",
    "ax1.set_xlabel('Вхождение?')\n",
    "ax2.set_xlabel('Вхождение?')\n",
    "ax1.legend()\n",
    "ax2.legend()"
   ]
  },
  {
   "cell_type": "markdown",
   "metadata": {},
   "source": [
    "## 4. Development model"
   ]
  },
  {
   "cell_type": "code",
   "execution_count": 32,
   "metadata": {},
   "outputs": [],
   "source": [
    "from sklearn.model_selection import cross_val_score\n",
    "from sklearn.model_selection import TimeSeriesSplit\n",
    "from sklearn.linear_model import LogisticRegression\n",
    "from scipy.sparse import hstack\n",
    "from sklearn.preprocessing import StandardScaler\n",
    "time_split = TimeSeriesSplit(n_splits=10)"
   ]
  },
  {
   "cell_type": "markdown",
   "metadata": {},
   "source": [
    "Для решения задачи будем использовать логистическую регрессию. Поскольку это линейный метод классификации, то необходимо категориальные признаки закодировать по методу one-hot-encoding, а численные признаки, по возможности, отмасштабировать."
   ]
  },
  {
   "cell_type": "code",
   "execution_count": 33,
   "metadata": {},
   "outputs": [],
   "source": [
    "new_feature_enc = pd.get_dummies(new_feature, columns=[\n",
    "#     'year',\n",
    "    'day_part',\n",
    "    'top20',\n",
    "    'week_day',\n",
    "#     'weekend',\n",
    "#     'month',\n",
    "#     'hour',\n",
    "#     'len',\n",
    "    'domain'\n",
    "])"
   ]
  },
  {
   "cell_type": "code",
   "execution_count": 34,
   "metadata": {},
   "outputs": [],
   "source": [
    "features_to_scale = [\n",
    "    'hour',\n",
    "#     'month',\n",
    "#     'len',\n",
    "#     'durations',\n",
    "    'month_year',\n",
    "#     'diff_time2_time1',\n",
    "#     'diff_time3_time2',\n",
    "#     'diff_time4_time3',\n",
    "#     'diff_time5_time4',\n",
    "#     'diff_time6_time5',\n",
    "#     'diff_time7_time6',\n",
    "#     'diff_time8_time7',\n",
    "#     'diff_time9_time8',\n",
    "#     'diff_time10_time9',\n",
    "    \n",
    "]\n",
    "new_feature_enc[features_to_scale] = StandardScaler().fit_transform(new_feature_enc[features_to_scale])"
   ]
  },
  {
   "cell_type": "markdown",
   "metadata": {},
   "source": [
    "Разделим на трейн и тест."
   ]
  },
  {
   "cell_type": "code",
   "execution_count": 35,
   "metadata": {},
   "outputs": [],
   "source": [
    "X_train_features = new_feature_enc.iloc[:train_df.shape[0],:]\n",
    "X_test_features = new_feature_enc.iloc[train_df.shape[0]:,:]\n",
    "y = train_df.target"
   ]
  },
  {
   "cell_type": "markdown",
   "metadata": {},
   "source": [
    "Не все столбцы датафрейма будем использовать в своем решении"
   ]
  },
  {
   "cell_type": "code",
   "execution_count": 36,
   "metadata": {},
   "outputs": [
    {
     "data": {
      "text/plain": [
       "Index(['target', 'sess_popular', 'len', 'hour', 'month', 'year', 'week',\n",
       "       'month_year', 'weekend', 'durations',\n",
       "       ...\n",
       "       'domain_tw', 'domain_ua', 'domain_ug', 'domain_uk', 'domain_us',\n",
       "       'domain_va', 'domain_vc', 'domain_vn', 'domain_ws', 'domain_za'],\n",
       "      dtype='object', length=196)"
      ]
     },
     "execution_count": 36,
     "metadata": {},
     "output_type": "execute_result"
    }
   ],
   "source": [
    "X_train_features.columns"
   ]
  },
  {
   "cell_type": "markdown",
   "metadata": {},
   "source": [
    "Объеденим разреженную матрицу после CountVectorizer с новыми признаками"
   ]
  },
  {
   "cell_type": "code",
   "execution_count": 37,
   "metadata": {},
   "outputs": [],
   "source": [
    "X_train_new = hstack([\n",
    "    X_train_text,\n",
    "    \n",
    "#     X_train_features.day_part.astype('int').values.reshape(-1,1),\n",
    "    X_train_features.day_part_0.astype('int').values.reshape(-1,1),\n",
    "    X_train_features.day_part_1.astype('int').values.reshape(-1,1),\n",
    "    X_train_features.day_part_2.astype('int').values.reshape(-1,1),\n",
    "    X_train_features.day_part_3.astype('int').values.reshape(-1,1),\n",
    "    \n",
    "#     X_train_features.top20.astype('int').values.reshape(-1,1),\n",
    "#     X_train_features.top20_0.astype('int').values.reshape(-1,1),\n",
    "#     X_train_features.top20_1.astype('int').values.reshape(-1,1),\n",
    "    \n",
    "    X_train_features.hour.astype('int').values.reshape(-1,1),\n",
    "    \n",
    "#     X_train_features.week_day.astype('int').values.reshape(-1,1),\n",
    "#     X_train_features.week_day_0.astype('int').values.reshape(-1,1),\n",
    "#     X_train_features.week_day_1.astype('int').values.reshape(-1,1),\n",
    "#     X_train_features.week_day_2.astype('int').values.reshape(-1,1),\n",
    "#     X_train_features.week_day_3.astype('int').values.reshape(-1,1),\n",
    "#     X_train_features.week_day_4.astype('int').values.reshape(-1,1),\n",
    "#     X_train_features.week_day_5.astype('int').values.reshape(-1,1),\n",
    "#     X_train_features.week_day_6.astype('int').values.reshape(-1,1),\n",
    "    \n",
    "    X_train_features.sess_popular.astype('int').values.reshape(-1,1),\n",
    "#     X_train_features.weekend.astype('int').values.reshape(-1,1),\n",
    "#     X_train_features.durations.astype('int').values.reshape(-1,1),\n",
    "#     X_train_features.len.astype('int').values.reshape(-1,1),\n",
    "#     X_train_features.year.astype('int').values.reshape(-1,1),\n",
    "    X_train_features.month_year.astype('int').values.reshape(-1,1),\n",
    "#     X_train_features.month.astype('int').values.reshape(-1,1),\n",
    "    \n",
    "#     X_train_features.diff_time2_time1.astype('int').values.reshape(-1,1),\n",
    "#     X_train_features.diff_time3_time2.astype('int').values.reshape(-1,1),\n",
    "#     X_train_features.diff_time4_time3.astype('int').values.reshape(-1,1),\n",
    "#     X_train_features.diff_time5_time4.astype('int').values.reshape(-1,1),\n",
    "#     X_train_features.diff_time6_time5.astype('int').values.reshape(-1,1),\n",
    "#     X_train_features.diff_time7_time6.astype('int').values.reshape(-1,1),\n",
    "#     X_train_features.diff_time8_time7.astype('int').values.reshape(-1,1),\n",
    "#     X_train_features.diff_time9_time8.astype('int').values.reshape(-1,1),\n",
    "#     X_train_features.diff_time10_time9.astype('int').values.reshape(-1,1),\n",
    "    \n",
    "#     X_train_features.domain_com.astype('int').values.reshape(-1,1),\n",
    "#     X_train_features.domain_fr.astype('int').values.reshape(-1,1),\n",
    "#     X_train_features.domain_net.astype('int').values.reshape(-1,1),\n",
    "    \n",
    "])"
   ]
  },
  {
   "cell_type": "code",
   "execution_count": 38,
   "metadata": {},
   "outputs": [
    {
     "data": {
      "text/plain": [
       "(253561, 50007)"
      ]
     },
     "execution_count": 38,
     "metadata": {},
     "output_type": "execute_result"
    }
   ],
   "source": [
    "X_train_new.shape"
   ]
  },
  {
   "cell_type": "markdown",
   "metadata": {},
   "source": [
    "## 5. Validation process"
   ]
  },
  {
   "cell_type": "markdown",
   "metadata": {},
   "source": [
    "Будем производить процесс валидации методом кросс валидации по временным интервалам. Разбитий по интервалам - 10 отрезков. Результат валидации - усредненное значение ROC-AUC на всех фолдах"
   ]
  },
  {
   "cell_type": "code",
   "execution_count": 39,
   "metadata": {},
   "outputs": [],
   "source": [
    "logit = LogisticRegression(C=1,random_state=42, solver='liblinear',penalty='l2')"
   ]
  },
  {
   "cell_type": "code",
   "execution_count": 40,
   "metadata": {},
   "outputs": [
    {
     "name": "stdout",
     "output_type": "stream",
     "text": [
      "Результат на валидации составил : 0.9243\n"
     ]
    }
   ],
   "source": [
    "cv_scores = cross_val_score(logit, X_train_new, y, cv=time_split, \n",
    "                            scoring='roc_auc')\n",
    "print(f'Результат на валидации составил : {cv_scores.mean():.4f}')"
   ]
  },
  {
   "cell_type": "markdown",
   "metadata": {},
   "source": [
    "Попытки....."
   ]
  },
  {
   "cell_type": "code",
   "execution_count": 41,
   "metadata": {
    "scrolled": true
   },
   "outputs": [
    {
     "data": {
      "text/plain": [
       "'\\nText + day_part cross-val: 0.896197\\nText + day_part + top20 cross-val: 0.896156\\nText + day_part + hour cross-val: 0.895136\\nText + day_part + top20 + hour + week_day + sess_popular cross-val: 0.89838\\nText + day_part + top20 + hour + week_day + sess_popular + weekend cross-val: 0.89180\\nText + day_part + hour + week_day + sess_popular cross-val: 0.8958\\nText + day_part + top20 + hour + week_day + sess_popular + duration cross-val: 0.89724\\nText + day_part + top20 + hour + week_day + sess_popular + len cross-val: 0.891337\\n\\nOnly encoding:\\nText + day_part cross-val: 0.915684\\nText + day_part + top20 cross-val: 0.91618\\nText + day_part + top20 + week_day cross-val: 0.91130\\nText + day_part + top20 + week_day(week_end) + (hour + sess_popular) cross-val: 0.91461\\nText + day_part + top20 + (hour + sess_popular) cross-val: 0.916617\\nText + day_part + top20 + (hour) cross-val: 0.91608\\nText + day_part + top20 + (hour + weekend) cross-val: 0.9122\\nText + day_part + top20 + (hour + sess_popular + len) cross-val: 0.9114\\nText + day_part + top20 + (hour + sess_popular + durations) cross-val: 0.91605\\nText + day_part + top20 + (hour + sess_popular + year + month + month_year) cross-val: 0.5\\n\\nEncoding and scaller:\\nText + day_part + top20 + hour cross-val: 0.921846\\nText + day_part + top20 + hour + (sess_popular) cross-val: 0.92216\\nText + day_part + top20 + hour + (sess_popular) + durations cross-val: 0.921728\\nText + day_part + top20 + hour + (sess_popular) + durations + month_year cross-val: 0.92187\\nText + day_part + top20 + hour + (sess_popular) + month_year cross-val: 0.923896\\nText + day_part + top20 + hour + (sess_popular) + month_year + (time_diff all) cross-val: 0.526\\nText + day_part + top20 + hour + (sess_popular) + month_year + time_diff all cross-val: 0.920\\nText + day_part + top20 + hour + (sess_popular) + month_year + time_diff2-1 cross-val: 0.92217\\nText + day_part + top20 + hour + (sess_popular) + month_year + len cross-val: 0.9237\\nText + day_part + hour + (sess_popular) + month_year cross-val: 0.9242\\nText + day_part + hour + month_year cross-val: 0.9227\\nText + day_part + (sess_popular) + month_year cross-val: 0.916\\nText + day_part + hour + (sess_popular) cross-val: 0.9212\\nText + day_part + hour + (sess_popular) + month_year + month cross-val: 0.9242\\n'"
      ]
     },
     "execution_count": 41,
     "metadata": {},
     "output_type": "execute_result"
    }
   ],
   "source": [
    "'''\n",
    "Text + day_part cross-val: 0.896197\n",
    "Text + day_part + top20 cross-val: 0.896156\n",
    "Text + day_part + hour cross-val: 0.895136\n",
    "Text + day_part + top20 + hour + week_day + sess_popular cross-val: 0.89838\n",
    "Text + day_part + top20 + hour + week_day + sess_popular + weekend cross-val: 0.89180\n",
    "Text + day_part + hour + week_day + sess_popular cross-val: 0.8958\n",
    "Text + day_part + top20 + hour + week_day + sess_popular + duration cross-val: 0.89724\n",
    "Text + day_part + top20 + hour + week_day + sess_popular + len cross-val: 0.891337\n",
    "\n",
    "Only encoding:\n",
    "Text + day_part cross-val: 0.915684\n",
    "Text + day_part + top20 cross-val: 0.91618\n",
    "Text + day_part + top20 + week_day cross-val: 0.91130\n",
    "Text + day_part + top20 + week_day(week_end) + (hour + sess_popular) cross-val: 0.91461\n",
    "Text + day_part + top20 + (hour + sess_popular) cross-val: 0.916617\n",
    "Text + day_part + top20 + (hour) cross-val: 0.91608\n",
    "Text + day_part + top20 + (hour + weekend) cross-val: 0.9122\n",
    "Text + day_part + top20 + (hour + sess_popular + len) cross-val: 0.9114\n",
    "Text + day_part + top20 + (hour + sess_popular + durations) cross-val: 0.91605\n",
    "Text + day_part + top20 + (hour + sess_popular + year + month + month_year) cross-val: 0.5\n",
    "\n",
    "Encoding and scaller:\n",
    "Text + day_part + top20 + hour cross-val: 0.921846\n",
    "Text + day_part + top20 + hour + (sess_popular) cross-val: 0.92216\n",
    "Text + day_part + top20 + hour + (sess_popular) + durations cross-val: 0.921728\n",
    "Text + day_part + top20 + hour + (sess_popular) + durations + month_year cross-val: 0.92187\n",
    "Text + day_part + top20 + hour + (sess_popular) + month_year cross-val: 0.923896\n",
    "Text + day_part + top20 + hour + (sess_popular) + month_year + (time_diff all) cross-val: 0.526\n",
    "Text + day_part + top20 + hour + (sess_popular) + month_year + time_diff all cross-val: 0.920\n",
    "Text + day_part + top20 + hour + (sess_popular) + month_year + time_diff2-1 cross-val: 0.92217\n",
    "Text + day_part + top20 + hour + (sess_popular) + month_year + len cross-val: 0.9237\n",
    "Text + day_part + hour + (sess_popular) + month_year cross-val: 0.9242\n",
    "Text + day_part + hour + month_year cross-val: 0.9227\n",
    "Text + day_part + (sess_popular) + month_year cross-val: 0.916\n",
    "Text + day_part + hour + (sess_popular) cross-val: 0.9212\n",
    "Text + day_part + hour + (sess_popular) + month_year + month cross-val: 0.9242\n",
    "'''"
   ]
  },
  {
   "cell_type": "markdown",
   "metadata": {},
   "source": [
    "Проведем поиск оптимального параметра С по сетке для логистической регрессии"
   ]
  },
  {
   "cell_type": "code",
   "execution_count": 42,
   "metadata": {},
   "outputs": [
    {
     "name": "stdout",
     "output_type": "stream",
     "text": [
      "Fitting 10 folds for each of 10 candidates, totalling 100 fits\n"
     ]
    },
    {
     "name": "stderr",
     "output_type": "stream",
     "text": [
      "[Parallel(n_jobs=-1)]: Using backend LokyBackend with 4 concurrent workers.\n",
      "[Parallel(n_jobs=-1)]: Done  42 tasks      | elapsed:  2.8min\n",
      "[Parallel(n_jobs=-1)]: Done 100 out of 100 | elapsed:  8.4min finished\n"
     ]
    },
    {
     "data": {
      "text/plain": [
       "GridSearchCV(cv=TimeSeriesSplit(max_train_size=None, n_splits=10),\n",
       "             error_score=nan,\n",
       "             estimator=LogisticRegression(C=1, class_weight=None, dual=False,\n",
       "                                          fit_intercept=True,\n",
       "                                          intercept_scaling=1, l1_ratio=None,\n",
       "                                          max_iter=100, multi_class='auto',\n",
       "                                          n_jobs=None, penalty='l2',\n",
       "                                          random_state=42, solver='liblinear',\n",
       "                                          tol=0.0001, verbose=0,\n",
       "                                          warm_start=False),\n",
       "             iid='deprecated', n_jobs=-1,\n",
       "             param_grid={'C': array([1.00000000e-02, 2.78255940e-02, 7.74263683e-02, 2.15443469e-01,\n",
       "       5.99484250e-01, 1.66810054e+00, 4.64158883e+00, 1.29154967e+01,\n",
       "       3.59381366e+01, 1.00000000e+02])},\n",
       "             pre_dispatch='2*n_jobs', refit=True, return_train_score=False,\n",
       "             scoring='roc_auc', verbose=1)"
      ]
     },
     "execution_count": 42,
     "metadata": {},
     "output_type": "execute_result"
    }
   ],
   "source": [
    "from sklearn.model_selection import GridSearchCV\n",
    "c_values = np.logspace(-2, 2, 10)\n",
    "\n",
    "logit_grid_searcher = GridSearchCV(estimator=logit, param_grid={'C': c_values},\n",
    "                                  scoring='roc_auc', n_jobs=-1, cv=time_split, verbose=1)\n",
    "logit_grid_searcher.fit(X_train_new, y)"
   ]
  },
  {
   "cell_type": "code",
   "execution_count": 43,
   "metadata": {},
   "outputs": [
    {
     "name": "stdout",
     "output_type": "stream",
     "text": [
      " Лучший ROC-AUC: 0.9242, при параметре {'C': 0.21544346900318834}\n"
     ]
    }
   ],
   "source": [
    "print(f' Лучший ROC-AUC: {logit_grid_searcher.best_score_:.4f}, при параметре {logit_grid_searcher.best_params_}')"
   ]
  },
  {
   "cell_type": "markdown",
   "metadata": {},
   "source": [
    "Создание тестового датафрейма идентичного тренировочному"
   ]
  },
  {
   "cell_type": "code",
   "execution_count": 44,
   "metadata": {},
   "outputs": [],
   "source": [
    "X_test_new = hstack([\n",
    "    X_test_text,\n",
    "    \n",
    "    X_test_features.day_part_0.astype('int').values.reshape(-1,1),\n",
    "    X_test_features.day_part_1.astype('int').values.reshape(-1,1),\n",
    "    X_test_features.day_part_2.astype('int').values.reshape(-1,1),\n",
    "    X_test_features.day_part_3.astype('int').values.reshape(-1,1),\n",
    "    \n",
    "#     X_test_features.top20_0.astype('int').values.reshape(-1,1),\n",
    "#     X_test_features.top20_1.astype('int').values.reshape(-1,1),\n",
    "    \n",
    "    X_test_features.hour.astype('int').values.reshape(-1,1),\n",
    "\n",
    "    X_test_features.sess_popular.astype('int').values.reshape(-1,1),\n",
    "    X_test_features.month_year.astype('int').values.reshape(-1,1),\n",
    "    \n",
    "])"
   ]
  },
  {
   "cell_type": "markdown",
   "metadata": {},
   "source": [
    "Проверка на совпадение размеров по столбцам"
   ]
  },
  {
   "cell_type": "code",
   "execution_count": 46,
   "metadata": {},
   "outputs": [],
   "source": [
    "assert X_train_new.shape[1] == X_test_new.shape[1]"
   ]
  },
  {
   "cell_type": "code",
   "execution_count": 47,
   "metadata": {},
   "outputs": [],
   "source": [
    "def write_to_submission_file(predicted_labels, out_file,\n",
    "                             target='target', index_label=\"session_id\"):\n",
    "    predicted_df = pd.DataFrame(predicted_labels,\n",
    "                                index = np.arange(1, predicted_labels.shape[0] + 1),\n",
    "                                columns=[target])\n",
    "    predicted_df.to_csv(out_file, index_label=index_label)"
   ]
  },
  {
   "cell_type": "markdown",
   "metadata": {},
   "source": [
    "Отправляем на Kaggle!"
   ]
  },
  {
   "cell_type": "code",
   "execution_count": 48,
   "metadata": {},
   "outputs": [],
   "source": [
    "logit_test_pred = logit_grid_searcher.predict_proba(X_test_new)[:, 1]\n",
    "write_to_submission_file(logit_test_pred, 'submission_16.csv')"
   ]
  },
  {
   "cell_type": "markdown",
   "metadata": {},
   "source": [
    "## 6. Выводы"
   ]
  },
  {
   "cell_type": "markdown",
   "metadata": {},
   "source": [
    "В результате проекта были созданы важные признаки для идентификации Алисы среди других пользователей интернета, а так же обучена простая модель машинного обучения. Качествона валидации очень хорошо коррелирует с доской Лидеров на соревновании. Точность предсказаний составляет 0.93%. Есть куда улучшать модель: Попробовать более долгие по вычислениям методы машинного обучения на основе градиентного бустинга, нейронных сетей , а так же создание ансамбля моделей над простейшими базовыми. Но модель для продакшена должна быть достаточно простой и выдавать решение (ответ) быстро, поэтому остановимся на логистической регрессии."
   ]
  },
  {
   "cell_type": "code",
   "execution_count": null,
   "metadata": {},
   "outputs": [],
   "source": []
  }
 ],
 "metadata": {
  "kernelspec": {
   "display_name": "Python 3",
   "language": "python",
   "name": "python3"
  },
  "language_info": {
   "codemirror_mode": {
    "name": "ipython",
    "version": 3
   },
   "file_extension": ".py",
   "mimetype": "text/x-python",
   "name": "python",
   "nbconvert_exporter": "python",
   "pygments_lexer": "ipython3",
   "version": "3.7.6"
  }
 },
 "nbformat": 4,
 "nbformat_minor": 1
}
